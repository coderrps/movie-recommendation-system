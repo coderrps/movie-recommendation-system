{
 "cells": [
  {
   "cell_type": "markdown",
   "id": "f16fa31e",
   "metadata": {},
   "source": [
    "# MOVIE RECOMMENDATION SYSTEM THROUGH PYTHON, ML"
   ]
  },
  {
   "cell_type": "code",
   "execution_count": 135,
   "id": "8c671cf1",
   "metadata": {},
   "outputs": [],
   "source": [
    "#Importing the librarires\n",
    "import pandas as pd #to read the csv file\n",
    "import difflib #to get close matches\n",
    "from sklearn.feature_extraction.text import TfidfVectorizer #converting texts into numberic value\n",
    "from sklearn.metrics.pairwise import cosine_similarity #comparing the numeric value using cosine similarity"
   ]
  },
  {
   "cell_type": "code",
   "execution_count": 73,
   "id": "d1cc0e5c",
   "metadata": {},
   "outputs": [],
   "source": [
    "#reading the csv file\n",
    "movie = pd.read_csv('movies.csv') \n",
    "# movie.head()"
   ]
  },
  {
   "cell_type": "code",
   "execution_count": 97,
   "id": "86f1f64f",
   "metadata": {},
   "outputs": [],
   "source": [
    "#select the columns from which we want to use it as a our keywords for recommendations\n",
    "# movie.columns\n",
    "selected_columns = ['genres', 'keywords', 'cast', 'director']"
   ]
  },
  {
   "cell_type": "code",
   "execution_count": 130,
   "id": "ec2861ce",
   "metadata": {},
   "outputs": [],
   "source": [
    "#removing the null values from the dataset with no space\n",
    "for columns in selected_columns:\n",
    "    movie[columns] = movie[columns].fillna('')\n"
   ]
  },
  {
   "cell_type": "code",
   "execution_count": 76,
   "id": "c2420df1",
   "metadata": {},
   "outputs": [],
   "source": [
    "#combining the all columns which is required for the recommendations\n",
    "combine =  movie['genres'] + ' '+ movie['keywords'] + ' '+ movie['cast'] + ' '+ movie['director']"
   ]
  },
  {
   "cell_type": "code",
   "execution_count": 78,
   "id": "306278e3",
   "metadata": {},
   "outputs": [],
   "source": [
    "#converting the texts to numberic value to perform further task\n",
    "vectorizer = TfidfVectorizer()\n",
    "feature_vector = vectorizer.fit_transform(combine)\n",
    "# print(feature_vector)"
   ]
  },
  {
   "cell_type": "code",
   "execution_count": 80,
   "id": "8e6a9858",
   "metadata": {},
   "outputs": [],
   "source": [
    "#comparing the numeric value using cosine similarity \n",
    "similarity = cosine_similarity(feature_vector)\n",
    "# print(similarity)"
   ]
  },
  {
   "cell_type": "code",
   "execution_count": 131,
   "id": "20f9ac94",
   "metadata": {},
   "outputs": [
    {
     "name": "stdout",
     "output_type": "stream",
     "text": [
      "Enter the movie name: \n",
      "wave\n"
     ]
    }
   ],
   "source": [
    "# taking the input from the user\n",
    "movie_name = input(\"Enter the movie name: \\n\")"
   ]
  },
  {
   "cell_type": "code",
   "execution_count": 132,
   "id": "fb2a12f2",
   "metadata": {},
   "outputs": [],
   "source": [
    "#now getting all titles as a list by creating a new variable\n",
    "title_list = movie['title'].tolist()\n",
    "# print(title_list)"
   ]
  },
  {
   "cell_type": "code",
   "execution_count": 133,
   "id": "50bca838",
   "metadata": {},
   "outputs": [
    {
     "name": "stdout",
     "output_type": "stream",
     "text": [
      "['Brave', 'Awake', 'Saved!']\n"
     ]
    }
   ],
   "source": [
    "#find_match is used to find the nearest match of the movie name which is given by user\n",
    "find_match = difflib.get_close_matches(movie_name, title_list)\n",
    "print(find_match)"
   ]
  },
  {
   "cell_type": "code",
   "execution_count": 126,
   "id": "05cae4dd",
   "metadata": {},
   "outputs": [
    {
     "name": "stdout",
     "output_type": "stream",
     "text": [
      "1536\n"
     ]
    }
   ],
   "source": [
    "#now we are checking for the closest match taking as an index[0] of find_match\n",
    "close_match = find_match[0]\n",
    "\n",
    "#creating a new variable as movie_index to check the title of the movie is equal to cloes_match \n",
    "# and print according to its index in the dataset\n",
    "movie_index = movie[movie.title == close_match]['index'].values[0]\n",
    "print(movie_index)"
   ]
  },
  {
   "cell_type": "code",
   "execution_count": 127,
   "id": "7a44bbbd",
   "metadata": {},
   "outputs": [],
   "source": [
    "#creating a similarity score to check whether the user input matches with the provided dataset or not\n",
    "similarity_score = list(enumerate(similarity[movie_index]))"
   ]
  },
  {
   "cell_type": "code",
   "execution_count": 128,
   "id": "c932f806",
   "metadata": {},
   "outputs": [],
   "source": [
    "#now sorting the similarity score from highest to lowest to get the closest match \n",
    "sorted_movie = sorted(similarity_score, key=lambda x:x[1], reverse=True)"
   ]
  },
  {
   "cell_type": "code",
   "execution_count": 134,
   "id": "13263167",
   "metadata": {},
   "outputs": [
    {
     "name": "stdout",
     "output_type": "stream",
     "text": [
      "Movies Suggestions: \n",
      "\n",
      "1 Vacation\n",
      "2 Bride of Chucky\n",
      "3 Cars\n",
      "4 Harold & Kumar Go to White Castle\n",
      "5 Alpha and Omega\n",
      "6 Cedar Rapids\n",
      "7 The Sweetest Thing\n",
      "8 Cats & Dogs 2 : The Revenge of Kitty Galore\n",
      "9 Bad Moms\n",
      "10 Meet Dave\n",
      "11 Wild Hogs\n",
      "12 Farce of the Penguins\n",
      "13 Pieces of April\n",
      "14 We're the Millers\n",
      "15 The Hunger Games: Mockingjay - Part 1\n",
      "16 Grand Theft Parsons\n",
      "17 Anchorman: The Legend of Ron Burgundy\n",
      "18 Going the Distance\n",
      "19 The Hunger Games: Catching Fire\n",
      "20 The Hangover Part II\n"
     ]
    }
   ],
   "source": [
    "#print the suggestions as a output\n",
    "print(\"Movies Suggestions: \\n\")\n",
    "\n",
    "#initializing with 1\n",
    "i=1\n",
    "for movies in sorted_movie:\n",
    "    index = movies[0] #taking index as 0\n",
    "    # creating a new variable as title_from_index to check the index of the movie is equal to actual index\n",
    "    # and print according to its title in the dataset\n",
    "    title_from_index = movie[movie.index==index]['title'].values[0] \n",
    "    if(i<=20): #suggesting the 1st 20 movies\n",
    "        print(i, title_from_index)\n",
    "    i+=1\n"
   ]
  }
 ],
 "metadata": {
  "kernelspec": {
   "display_name": "Python 3 (ipykernel)",
   "language": "python",
   "name": "python3"
  },
  "language_info": {
   "codemirror_mode": {
    "name": "ipython",
    "version": 3
   },
   "file_extension": ".py",
   "mimetype": "text/x-python",
   "name": "python",
   "nbconvert_exporter": "python",
   "pygments_lexer": "ipython3",
   "version": "3.11.3"
  }
 },
 "nbformat": 4,
 "nbformat_minor": 5
}
